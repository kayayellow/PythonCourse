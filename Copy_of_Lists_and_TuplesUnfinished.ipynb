{
  "nbformat": 4,
  "nbformat_minor": 0,
  "metadata": {
    "colab": {
      "name": "Copy of Lists and Tuples.ipynb",
      "provenance": [],
      "collapsed_sections": [],
      "include_colab_link": true
    },
    "kernelspec": {
      "name": "python3",
      "display_name": "Python 3"
    },
    "language_info": {
      "name": "python"
    }
  },
  "cells": [
    {
      "cell_type": "markdown",
      "metadata": {
        "id": "view-in-github",
        "colab_type": "text"
      },
      "source": [
        "<a href=\"https://colab.research.google.com/github/kayayellow/PythonCourse/blob/main/Copy_of_Lists_and_TuplesUnfinished.ipynb\" target=\"_parent\"><img src=\"https://colab.research.google.com/assets/colab-badge.svg\" alt=\"Open In Colab\"/></a>"
      ]
    },
    {
      "cell_type": "markdown",
      "metadata": {
        "id": "Z-M-RCWATK71"
      },
      "source": [
        "# Lists and tuples\n",
        "\n",
        "Often we need to store a number of single items of data together so that they can be processed together. This might be because all the data refers to one person (e.g. name, age, gender, etc) OR it might be because we have a set of data (e.g. all the items that should be displayed in a drop down list, such as all the years from this year back to 100 years ago so that someone can select their year of birth)\n",
        "\n",
        "Python has a range of data structures available including:\n",
        "*   lists  \n",
        "*   tuples  \n",
        "*   dictionaries  \n",
        "*   sets\n",
        "\n",
        "This worksheet looks at lists and tuples.\n",
        "\n",
        "## List\n",
        "A list is a set of related, individual data objects, that are indexed and can be processed as a whole, as subsets or as individual items.  Lists are stored, essentially, as contiguous items in memory so that access can be as quick as possible.  However, they are mutable (they can be changed after they are created and stored) and so those mechanisms need to include extra functionality to deal with changing list sizes.\n",
        "\n",
        "## Tuple\n",
        "Essentially the same as a list but it is immutable.  Once it has been created it can't be changed.  It is stored in memory as contiguous items, with the size required being fixed right from the start.  This makes it faster to access.\n",
        "\n",
        "The code below will create two lists and a tuple.\n",
        "*   the first list contains 1000 random numbers between 1 and 100\n",
        "*   the second list is of random length (up to 5000) and each item is one of the 9 characteristics that are protected under the Equality Act in the UK.\n",
        "*   the tuple contains the 9 protected characteristics\n",
        "\n",
        "Before you start the exercises, run the code below.  It will generate the lists and tuple so that you can use them in the exercises.  If you need to recreate the lists again (because you have changed them and need to work on the originals, just run this cell again).\n",
        "\n",
        "***Note:***  *a list variable contains a reference to the start of the list in memory, rather than storing the list itself.  This means that if you assign the list to another variable (to make a copy), it will only copy across the reference.  If you change the copy, you change the original list.*\n",
        "\n",
        "*If you need to make a copy of the list you will need to use a loop to create a new list and copy all items across.*"
      ]
    },
    {
      "cell_type": "code",
      "metadata": {
        "id": "BDRckXeQXFMT"
      },
      "source": [
        "from random import randint, choice\n",
        "\n",
        "def get_num_list():\n",
        "  num_list = [randint(1,100) for n in range(1000)]\n",
        "  return num_list\n",
        "\n",
        "def get_protected_characteristics():\n",
        "  characteristics_tuple = ('age','disability','gender reassignment','marriage and civil partnership','pregnancy and maternity','race','religion or belief','sex','sexual orientation')\n",
        "  return characteristics_tuple\n",
        "\n",
        "def get_protected_characteristic_list(protected_characteristics):\n",
        "  char_list = [choice(protected_characteristics) for ch in range(randint(1,5000))]\n",
        "  return char_list\n",
        "\n",
        "nums = get_num_list()\n",
        "protected_characteristics = get_protected_characteristics()\n",
        "characteristics = get_protected_characteristic_list(protected_characteristics)"
      ],
      "execution_count": 23,
      "outputs": []
    },
    {
      "cell_type": "markdown",
      "metadata": {
        "id": "xXT38-4ZV45n"
      },
      "source": [
        "## The exercises below will use the lists:  \n",
        "*   **nums** (a list of between 1 and 1000 random numbers, each number is between 0 and 1000)\n",
        "*   **characteristics** (a list of 5000 random protected_characteristics)\n",
        "\n",
        "and the tuple:\n",
        "*  **protected_characteristics** (a set of the 9 protected characteristics identified in the Equality Act)\n",
        "\n",
        "## You can run the cell above any number of times to generate new lists."
      ]
    },
    {
      "cell_type": "markdown",
      "metadata": {
        "id": "Ft0dXl7fUuaK"
      },
      "source": [
        "---\n",
        "### Exercise 1 - list head, tail and shape\n",
        "\n",
        "Write a function, **describe_list()** which will:\n",
        "*  print the length of the list `nums`\n",
        "*  print the first 10 items in `nums`  \n",
        "*  print the last 5 items in `nums`"
      ]
    },
    {
      "cell_type": "code",
      "metadata": {
        "id": "jUcZD7mmTJdA",
        "colab": {
          "base_uri": "https://localhost:8080/"
        },
        "outputId": "abe0edf4-6030-437d-f175-55ad8209cbf6"
      },
      "source": [
        "def describe_list():\n",
        "  num_list = [randint(1,100) for n in range(1000)]\n",
        "  print(num_list)\n",
        "  print(num_list[:10])\n",
        "  print(num_list[-5:])\n",
        "describe_list()"
      ],
      "execution_count": 24,
      "outputs": [
        {
          "output_type": "stream",
          "name": "stdout",
          "text": [
            "[90, 45, 60, 10, 68, 31, 58, 64, 8, 24, 42, 49, 33, 54, 91, 88, 64, 9, 49, 97, 67, 46, 69, 95, 71, 13, 66, 87, 59, 28, 100, 24, 18, 24, 22, 74, 80, 96, 28, 85, 8, 53, 61, 79, 7, 79, 50, 8, 38, 33, 81, 98, 32, 36, 25, 10, 2, 54, 59, 70, 39, 9, 32, 41, 49, 85, 72, 20, 89, 75, 80, 17, 70, 76, 81, 93, 46, 97, 87, 14, 86, 8, 57, 94, 38, 99, 87, 19, 2, 35, 9, 73, 65, 96, 20, 9, 21, 33, 96, 45, 100, 19, 76, 49, 30, 25, 59, 50, 66, 74, 72, 24, 35, 88, 71, 66, 48, 82, 60, 70, 28, 89, 54, 55, 69, 68, 68, 29, 15, 23, 37, 11, 91, 5, 49, 89, 57, 73, 81, 18, 46, 39, 79, 70, 59, 95, 55, 57, 78, 98, 75, 90, 67, 70, 29, 85, 10, 95, 98, 86, 78, 11, 67, 38, 89, 75, 48, 42, 84, 99, 1, 60, 81, 40, 5, 8, 41, 21, 96, 25, 45, 44, 69, 33, 57, 96, 31, 60, 82, 6, 56, 99, 7, 1, 30, 95, 54, 91, 49, 92, 66, 75, 29, 36, 41, 19, 24, 71, 20, 54, 47, 86, 44, 39, 1, 85, 52, 50, 61, 52, 79, 93, 29, 2, 100, 57, 97, 73, 64, 2, 11, 24, 66, 55, 26, 5, 22, 57, 61, 27, 17, 76, 81, 80, 95, 22, 67, 88, 81, 81, 25, 67, 4, 37, 78, 8, 79, 16, 79, 36, 57, 97, 37, 95, 86, 40, 100, 88, 73, 45, 84, 46, 94, 64, 70, 9, 83, 53, 4, 78, 7, 45, 11, 62, 100, 71, 7, 89, 89, 99, 48, 77, 71, 83, 33, 62, 6, 69, 62, 29, 34, 39, 21, 8, 39, 29, 71, 4, 96, 72, 44, 100, 14, 48, 82, 16, 57, 77, 34, 95, 6, 47, 81, 79, 23, 87, 3, 5, 23, 95, 98, 52, 6, 81, 20, 72, 94, 40, 11, 62, 6, 59, 33, 9, 27, 49, 77, 48, 55, 93, 86, 64, 86, 39, 87, 41, 70, 14, 68, 32, 93, 34, 77, 57, 40, 6, 51, 98, 66, 27, 20, 83, 6, 46, 36, 56, 84, 30, 84, 10, 7, 19, 23, 99, 94, 29, 77, 35, 64, 3, 66, 95, 36, 25, 1, 12, 78, 94, 84, 80, 22, 41, 77, 88, 12, 53, 100, 5, 32, 5, 87, 29, 36, 56, 30, 74, 74, 44, 38, 40, 83, 70, 69, 14, 90, 99, 91, 55, 26, 12, 27, 66, 23, 69, 99, 16, 70, 23, 4, 63, 80, 52, 32, 30, 82, 4, 86, 23, 78, 79, 17, 42, 44, 23, 41, 69, 63, 24, 61, 54, 74, 1, 25, 57, 40, 40, 76, 7, 77, 23, 3, 75, 35, 87, 93, 12, 47, 17, 98, 96, 77, 58, 93, 30, 28, 55, 78, 92, 50, 50, 65, 54, 83, 80, 75, 11, 35, 83, 6, 86, 39, 4, 15, 75, 61, 92, 77, 51, 18, 43, 50, 85, 88, 39, 33, 15, 27, 59, 61, 92, 57, 63, 42, 46, 22, 20, 10, 100, 56, 78, 25, 52, 53, 89, 95, 37, 32, 49, 42, 36, 75, 29, 11, 46, 13, 96, 41, 70, 31, 41, 68, 95, 96, 17, 83, 34, 97, 10, 27, 3, 50, 35, 90, 21, 23, 19, 72, 15, 63, 12, 60, 96, 67, 18, 9, 37, 39, 10, 28, 83, 24, 57, 95, 19, 71, 38, 15, 49, 85, 63, 96, 20, 56, 18, 32, 50, 28, 42, 32, 12, 78, 72, 77, 62, 56, 23, 12, 33, 41, 58, 73, 32, 99, 35, 3, 66, 9, 98, 29, 51, 22, 27, 99, 46, 4, 33, 72, 31, 43, 38, 89, 1, 56, 93, 18, 14, 98, 9, 26, 37, 24, 92, 78, 93, 97, 44, 71, 63, 42, 22, 44, 17, 70, 84, 87, 82, 62, 77, 57, 82, 26, 48, 14, 12, 82, 51, 93, 10, 49, 92, 53, 8, 82, 66, 25, 55, 74, 8, 20, 12, 56, 28, 68, 83, 61, 12, 87, 33, 24, 29, 52, 81, 90, 85, 27, 100, 4, 37, 47, 79, 93, 94, 20, 38, 6, 89, 43, 88, 10, 16, 95, 93, 35, 72, 89, 72, 4, 23, 67, 52, 45, 13, 9, 85, 74, 8, 92, 27, 16, 57, 79, 47, 53, 75, 55, 70, 7, 24, 63, 51, 8, 37, 52, 84, 10, 52, 5, 12, 69, 30, 58, 61, 29, 19, 47, 11, 99, 59, 86, 28, 74, 99, 61, 29, 75, 33, 75, 44, 33, 76, 34, 31, 9, 93, 64, 96, 72, 71, 63, 26, 87, 65, 37, 35, 56, 4, 91, 3, 97, 47, 4, 70, 57, 60, 4, 97, 41, 90, 93, 31, 46, 69, 36, 27, 96, 15, 69, 13, 69, 55, 18, 26, 70, 3, 13, 25, 19, 50, 81, 96, 55, 50, 48, 49, 2, 60, 72, 57, 1, 26, 19, 47, 16, 83, 95, 82, 19, 94, 74, 40, 33, 30, 70, 75, 74, 49, 27, 4, 14, 19, 92, 47, 29, 19, 1, 28, 75, 70, 4, 5, 70, 56, 94, 22, 14, 3, 90, 23, 76, 25, 75, 58, 49, 99, 94, 68, 65, 10, 41, 86, 94, 84, 60, 11, 81, 77, 32, 62, 5, 63, 54, 50, 3, 9, 46, 94, 51, 36, 20, 45, 90, 7, 81, 85, 42, 95, 83, 24, 82, 1, 89, 87, 4, 88, 10, 80, 74, 95, 62, 27, 36, 19, 18, 2, 38, 4, 4, 91, 2, 9, 44, 65, 88, 15, 3, 45, 93, 50, 76, 91, 69, 31, 27, 30, 84, 2, 44, 38, 93, 60, 42, 59, 71, 50, 27, 34, 31, 61, 65, 33, 78, 44, 34, 62, 72, 82, 3, 77, 12, 54, 82, 88, 61, 94, 95, 1, 42, 75, 32, 12, 33, 55, 22, 88, 40, 52, 40, 52, 34, 47, 75, 77, 56, 20, 72, 94, 40, 66, 48, 48]\n",
            "[90, 45, 60, 10, 68, 31, 58, 64, 8, 24]\n",
            "[94, 40, 66, 48, 48]\n"
          ]
        }
      ]
    },
    {
      "cell_type": "markdown",
      "metadata": {
        "id": "yNWg08k6bXv0"
      },
      "source": [
        "---\n",
        "### Exercise 2 - show tuple items\n",
        "\n",
        "Write a function which will:\n",
        "*   use a loop to print the list of protected characteristics from the `protected_characteristics` tuple.\n"
      ]
    },
    {
      "cell_type": "code",
      "metadata": {
        "id": "P2HnCG9pb1BS",
        "colab": {
          "base_uri": "https://localhost:8080/"
        },
        "outputId": "e2ac2087-c5f3-44ad-ee27-2b8cb370a05c"
      },
      "source": [
        "def protected_characteristics():\n",
        "  characteristics_tuple = ('age','disability','gender reassignment','marriage and civil partnership','pregnancy and maternity','race','religion or belief','sex','sexual orientation')\n",
        "  print(characteristics_tuple)\n",
        "protected_characteristics()"
      ],
      "execution_count": 25,
      "outputs": [
        {
          "output_type": "stream",
          "name": "stdout",
          "text": [
            "('age', 'disability', 'gender reassignment', 'marriage and civil partnership', 'pregnancy and maternity', 'race', 'religion or belief', 'sex', 'sexual orientation')\n"
          ]
        }
      ]
    },
    {
      "cell_type": "markdown",
      "metadata": {
        "id": "RTSuQZs4b1JU"
      },
      "source": [
        "---\n",
        "### Exercise 3 - list a random subset\n",
        "\n",
        "Write a function which will:\n",
        "*  calculate the position of the middle item in the `characteristics` list   \n",
        "(*Hint: use len() to help with this*)\n",
        "*  calculate the position of the item that is 5 places before the middle item\n",
        "*  calculate the position of the item that is 5 places after the middle item\n",
        "*  print the part of the list that includes the items from 5 places before to 5 places after.  \n",
        "\n",
        "Expected output:  \n",
        "Your list will include 11 items."
      ]
    },
    {
      "cell_type": "code",
      "metadata": {
        "id": "OwhFnH2kdC11",
        "colab": {
          "base_uri": "https://localhost:8080/"
        },
        "outputId": "e0ab675c-1983-4305-b6eb-d4416923f4b9"
      },
      "source": [
        "def characteristcics_list():\n",
        "  #characteristics = ('age','disability','gender reassignment','marriage and civil partnership','pregnancy and maternity','race','religion or belief','sex','sexual orientation')\n",
        "  middle = len(characteristics) // 2\n",
        "  print(middle)\n",
        "  five_before = middle - 5\n",
        "  five_after = middle + 5\n",
        "  print(characteristics[five_before:five_after])\n",
        "characteristcics_list()"
      ],
      "execution_count": 26,
      "outputs": [
        {
          "output_type": "stream",
          "name": "stdout",
          "text": [
            "2408\n",
            "['age', 'gender reassignment', 'disability', 'sexual orientation', 'sex', 'marriage and civil partnership', 'age', 'marriage and civil partnership', 'pregnancy and maternity', 'sex']\n"
          ]
        }
      ]
    },
    {
      "cell_type": "markdown",
      "metadata": {
        "id": "KS0x3oFNePI9"
      },
      "source": [
        "---\n",
        "### Exercise 4 - create a copy\n",
        "\n",
        "Write a function which will: use a for loop to create a copy of the `nums` list:\n",
        "\n",
        "*   create a new, empty, list called **new_nums**  (*Hint: an empty list is [ ]*)\n",
        "*   use a for loop which uses the following syntax:  `for num in nums:`\n",
        "*   each time round the loop append `num` to `new_nums`  ( *`new_nums.append(num)`*)\n",
        "*   print the first 10 items of `new_nums`\n",
        "*   print the first 10 items of `nums`\n",
        "*   print the length of both lists"
      ]
    },
    {
      "cell_type": "code",
      "metadata": {
        "id": "mpK1Ip3we-uC",
        "colab": {
          "base_uri": "https://localhost:8080/"
        },
        "outputId": "60c164c5-2fe8-4a0a-d080-f8755cb4e2cf"
      },
      "source": [
        "new_nums = []\n",
        "for num in nums:\n",
        "  new_nums.append(num)\n",
        "print(new_nums[:10])\n",
        "print(nums[:10])"
      ],
      "execution_count": 27,
      "outputs": [
        {
          "output_type": "stream",
          "name": "stdout",
          "text": [
            "[89, 90, 3, 44, 2, 66, 10, 19, 5, 95]\n",
            "[89, 90, 3, 44, 2, 66, 10, 19, 5, 95]\n"
          ]
        }
      ]
    },
    {
      "cell_type": "markdown",
      "metadata": {
        "id": "deUIFWjRe-3G"
      },
      "source": [
        "\n",
        "\n",
        "```\n",
        "# This is formatted as code\n",
        "```\n",
        "\n",
        "---\n",
        "### Exercise 5 - count the occurrence of age in characteristics\n",
        "\n",
        "Write a function which will use the list method:\n",
        "\n",
        "`num_items = list_name.count(item)`\n",
        "\n",
        "to count the number of occurrences of 'age' in the `characteristics` list.  Print the result."
      ]
    },
    {
      "cell_type": "code",
      "metadata": {
        "id": "b9TrHQ9hfoIU",
        "colab": {
          "base_uri": "https://localhost:8080/"
        },
        "outputId": "8d2378b1-e17e-4542-f0e3-67f787fd4507"
      },
      "source": [
        "#characteristics = ('age','disability','gender reassignment','marriage and civil partnership','pregnancy and maternity','race','religion or belief','sex','sexual orientation')\n",
        "num_items = characteristics.count('age')\n",
        "print(num_items)"
      ],
      "execution_count": 28,
      "outputs": [
        {
          "output_type": "stream",
          "name": "stdout",
          "text": [
            "546\n"
          ]
        }
      ]
    },
    {
      "cell_type": "markdown",
      "metadata": {
        "id": "zm2VI5RmfoSy"
      },
      "source": [
        "---\n",
        "### Exercise 6 - sort the nums list\n",
        "\n",
        "Write a function which will:\n",
        "*   call the function `get_num_list()` and store the result in a new list called **sort_nums**\n",
        "*   print the first, and last, 20 items in the `sort_nums` list\n",
        "*   use the `list_name.sort()` method to sort the `sort_nums` list into ascending order\n",
        "*   print the first, and last, 20 items again  \n",
        "*   use the `list_name.sort()` method again to sort the `sort_nums` list into descending order\n",
        "*   print the first, and last, 20 items again"
      ]
    },
    {
      "cell_type": "code",
      "metadata": {
        "id": "Fksgpj9JgWDs",
        "colab": {
          "base_uri": "https://localhost:8080/",
          "height": 398
        },
        "outputId": "119ef72c-3a92-423b-9015-89642db0bab6"
      },
      "source": [
        "#def get_num_list():\n",
        " # sort_nums = get_num_list()\n",
        "  #print(sort_nums[:20])\n",
        " # print(sort_nums[20:])\n",
        "#get_num_list()\n",
        "\n",
        "def sort_the_nums_list():\n",
        "  sort_nums = get_num_list()\n",
        "  print(sort_nums[:20], sort_nums[-20:])\n",
        "  sort_nums.sort()\n",
        "  print(sort_nums[:20], sort_nums[-20:])\n",
        "  sort_nums.sort(reverse=True)\n",
        "  print(sort_nums[:20], sort_nums[-20:])\n",
        "\n",
        "sort_the_nums_list()"
      ],
      "execution_count": 31,
      "outputs": [
        {
          "output_type": "error",
          "ename": "RecursionError",
          "evalue": "ignored",
          "traceback": [
            "\u001b[0;31m---------------------------------------------------------------------------\u001b[0m",
            "\u001b[0;31mRecursionError\u001b[0m                            Traceback (most recent call last)",
            "\u001b[0;32m<ipython-input-31-41d852e866a8>\u001b[0m in \u001b[0;36m<module>\u001b[0;34m()\u001b[0m\n\u001b[1;32m     13\u001b[0m   \u001b[0mprint\u001b[0m\u001b[0;34m(\u001b[0m\u001b[0msort_nums\u001b[0m\u001b[0;34m[\u001b[0m\u001b[0;34m:\u001b[0m\u001b[0;36m20\u001b[0m\u001b[0;34m]\u001b[0m\u001b[0;34m,\u001b[0m \u001b[0msort_nums\u001b[0m\u001b[0;34m[\u001b[0m\u001b[0;34m-\u001b[0m\u001b[0;36m20\u001b[0m\u001b[0;34m:\u001b[0m\u001b[0;34m]\u001b[0m\u001b[0;34m)\u001b[0m\u001b[0;34m\u001b[0m\u001b[0;34m\u001b[0m\u001b[0m\n\u001b[1;32m     14\u001b[0m \u001b[0;34m\u001b[0m\u001b[0m\n\u001b[0;32m---> 15\u001b[0;31m \u001b[0msort_the_nums_list\u001b[0m\u001b[0;34m(\u001b[0m\u001b[0;34m)\u001b[0m\u001b[0;34m\u001b[0m\u001b[0;34m\u001b[0m\u001b[0m\n\u001b[0m",
            "\u001b[0;32m<ipython-input-31-41d852e866a8>\u001b[0m in \u001b[0;36msort_the_nums_list\u001b[0;34m()\u001b[0m\n\u001b[1;32m      6\u001b[0m \u001b[0;34m\u001b[0m\u001b[0m\n\u001b[1;32m      7\u001b[0m \u001b[0;32mdef\u001b[0m \u001b[0msort_the_nums_list\u001b[0m\u001b[0;34m(\u001b[0m\u001b[0;34m)\u001b[0m\u001b[0;34m:\u001b[0m\u001b[0;34m\u001b[0m\u001b[0;34m\u001b[0m\u001b[0m\n\u001b[0;32m----> 8\u001b[0;31m   \u001b[0msort_nums\u001b[0m \u001b[0;34m=\u001b[0m \u001b[0mget_num_list\u001b[0m\u001b[0;34m(\u001b[0m\u001b[0;34m)\u001b[0m\u001b[0;34m\u001b[0m\u001b[0;34m\u001b[0m\u001b[0m\n\u001b[0m\u001b[1;32m      9\u001b[0m   \u001b[0mprint\u001b[0m\u001b[0;34m(\u001b[0m\u001b[0msort_nums\u001b[0m\u001b[0;34m[\u001b[0m\u001b[0;34m:\u001b[0m\u001b[0;36m20\u001b[0m\u001b[0;34m]\u001b[0m\u001b[0;34m,\u001b[0m \u001b[0msort_nums\u001b[0m\u001b[0;34m[\u001b[0m\u001b[0;34m-\u001b[0m\u001b[0;36m20\u001b[0m\u001b[0;34m:\u001b[0m\u001b[0;34m]\u001b[0m\u001b[0;34m)\u001b[0m\u001b[0;34m\u001b[0m\u001b[0;34m\u001b[0m\u001b[0m\n\u001b[1;32m     10\u001b[0m   \u001b[0msort_nums\u001b[0m\u001b[0;34m.\u001b[0m\u001b[0msort\u001b[0m\u001b[0;34m(\u001b[0m\u001b[0;34m)\u001b[0m\u001b[0;34m\u001b[0m\u001b[0;34m\u001b[0m\u001b[0m\n",
            "\u001b[0;32m<ipython-input-29-c2a00278feac>\u001b[0m in \u001b[0;36mget_num_list\u001b[0;34m()\u001b[0m\n\u001b[1;32m      1\u001b[0m \u001b[0;32mdef\u001b[0m \u001b[0mget_num_list\u001b[0m\u001b[0;34m(\u001b[0m\u001b[0;34m)\u001b[0m\u001b[0;34m:\u001b[0m\u001b[0;34m\u001b[0m\u001b[0;34m\u001b[0m\u001b[0m\n\u001b[0;32m----> 2\u001b[0;31m   \u001b[0msort_nums\u001b[0m \u001b[0;34m=\u001b[0m \u001b[0mget_num_list\u001b[0m\u001b[0;34m(\u001b[0m\u001b[0;34m)\u001b[0m\u001b[0;34m\u001b[0m\u001b[0;34m\u001b[0m\u001b[0m\n\u001b[0m\u001b[1;32m      3\u001b[0m   \u001b[0mprint\u001b[0m\u001b[0;34m(\u001b[0m\u001b[0msort_nums\u001b[0m\u001b[0;34m[\u001b[0m\u001b[0;34m:\u001b[0m\u001b[0;36m20\u001b[0m\u001b[0;34m]\u001b[0m\u001b[0;34m)\u001b[0m\u001b[0;34m\u001b[0m\u001b[0;34m\u001b[0m\u001b[0m\n\u001b[1;32m      4\u001b[0m   \u001b[0mprint\u001b[0m\u001b[0;34m(\u001b[0m\u001b[0msort_nums\u001b[0m\u001b[0;34m[\u001b[0m\u001b[0;36m20\u001b[0m\u001b[0;34m:\u001b[0m\u001b[0;34m]\u001b[0m\u001b[0;34m)\u001b[0m\u001b[0;34m\u001b[0m\u001b[0;34m\u001b[0m\u001b[0m\n\u001b[1;32m      5\u001b[0m \u001b[0mget_num_list\u001b[0m\u001b[0;34m(\u001b[0m\u001b[0;34m)\u001b[0m\u001b[0;34m\u001b[0m\u001b[0;34m\u001b[0m\u001b[0m\n",
            "... last 1 frames repeated, from the frame below ...\n",
            "\u001b[0;32m<ipython-input-29-c2a00278feac>\u001b[0m in \u001b[0;36mget_num_list\u001b[0;34m()\u001b[0m\n\u001b[1;32m      1\u001b[0m \u001b[0;32mdef\u001b[0m \u001b[0mget_num_list\u001b[0m\u001b[0;34m(\u001b[0m\u001b[0;34m)\u001b[0m\u001b[0;34m:\u001b[0m\u001b[0;34m\u001b[0m\u001b[0;34m\u001b[0m\u001b[0m\n\u001b[0;32m----> 2\u001b[0;31m   \u001b[0msort_nums\u001b[0m \u001b[0;34m=\u001b[0m \u001b[0mget_num_list\u001b[0m\u001b[0;34m(\u001b[0m\u001b[0;34m)\u001b[0m\u001b[0;34m\u001b[0m\u001b[0;34m\u001b[0m\u001b[0m\n\u001b[0m\u001b[1;32m      3\u001b[0m   \u001b[0mprint\u001b[0m\u001b[0;34m(\u001b[0m\u001b[0msort_nums\u001b[0m\u001b[0;34m[\u001b[0m\u001b[0;34m:\u001b[0m\u001b[0;36m20\u001b[0m\u001b[0;34m]\u001b[0m\u001b[0;34m)\u001b[0m\u001b[0;34m\u001b[0m\u001b[0;34m\u001b[0m\u001b[0m\n\u001b[1;32m      4\u001b[0m   \u001b[0mprint\u001b[0m\u001b[0;34m(\u001b[0m\u001b[0msort_nums\u001b[0m\u001b[0;34m[\u001b[0m\u001b[0;36m20\u001b[0m\u001b[0;34m:\u001b[0m\u001b[0;34m]\u001b[0m\u001b[0;34m)\u001b[0m\u001b[0;34m\u001b[0m\u001b[0;34m\u001b[0m\u001b[0m\n\u001b[1;32m      5\u001b[0m \u001b[0mget_num_list\u001b[0m\u001b[0;34m(\u001b[0m\u001b[0;34m)\u001b[0m\u001b[0;34m\u001b[0m\u001b[0;34m\u001b[0m\u001b[0m\n",
            "\u001b[0;31mRecursionError\u001b[0m: maximum recursion depth exceeded"
          ]
        }
      ]
    },
    {
      "cell_type": "markdown",
      "metadata": {
        "id": "_OF-Xuj1UrW0"
      },
      "source": [
        "---\n",
        "### Exercise 7 - get statistics (max(), min(), sum() )\n",
        "\n",
        "Write a function which will:\n",
        "*   print the maximum and minimum numbers in the `nums` list  \n",
        "*   print the sum of the `nums` list\n",
        "*   calculate and print the average of the `nums` list (using `len()` to help)"
      ]
    },
    {
      "cell_type": "code",
      "metadata": {
        "id": "9YmYMenZVGod"
      },
      "source": [
        ""
      ],
      "execution_count": null,
      "outputs": []
    },
    {
      "cell_type": "markdown",
      "metadata": {
        "id": "Mn4tHQ_KVbHa"
      },
      "source": [
        "---\n",
        "### Exercise 8 - percentage difference\n",
        "\n",
        "Write a function which will:\n",
        "*   generate a new list called **ex8_nums** using `get_num_list()`\n",
        "*   calculate and print the percentage difference between the first number in each list (as a percentage of the number in the nums list) (Hint:  find the difference between the two numbers, divide the difference by the number in `nums` and multiply by 100)\n",
        "*   calculate and print the percentage difference between the last numbers in each list in the same way\n",
        "*   calculate and print the percentage difference between the middle numbers in each list in the same way.\n",
        "*   calculate and print the percentage difference between the sums of each list in the same way"
      ]
    },
    {
      "cell_type": "code",
      "metadata": {
        "id": "nJCQjZIeZL0e"
      },
      "source": [
        ""
      ],
      "execution_count": null,
      "outputs": []
    },
    {
      "cell_type": "markdown",
      "metadata": {
        "id": "HNs3lZmYawFO"
      },
      "source": [
        "---\n",
        "### Exercise 9 - characteristic counts\n",
        "\n",
        "Write a function which will:\n",
        "*  iterate through the `protected_characteristics` tuple and for each **characteristic**:\n",
        "*   *   count the number of occurrences of that `characteristic` in the `characteristics` list\n",
        "*   *   print the `protected_characteristic` and the **count**  \n",
        "\n",
        "Example expected output:\n",
        "\n",
        "age 100  \n",
        "disability 120  \n",
        "gender reassignment 120  \n",
        "marriage and civil partnership 111  \n",
        "pregnancy and maternity 103  \n",
        "race 106  \n",
        "religion or belief 95  \n",
        "sex 110  \n",
        "sexual orientation 113  \n",
        "\n",
        "Extra learning:  you can read [here](https://thispointer.com/python-how-to-pad-strings-with-zero-space-or-some-other-character/) how to justify the printed characteristic so that the output is organised into two columns as shown below:  \n",
        "![tabulated output](https://drive.google.com/uc?id=1CCXfX6K5ZeDefnq7vUsqxCDmqvcfY8Mz)\n",
        "\n",
        "\n",
        "\n"
      ]
    },
    {
      "cell_type": "code",
      "metadata": {
        "id": "GURT11albqUs"
      },
      "source": [
        ""
      ],
      "execution_count": null,
      "outputs": []
    },
    {
      "cell_type": "markdown",
      "metadata": {
        "id": "9Po7yQj-ds38"
      },
      "source": [
        "---\n",
        "### Exercise 10 - characteristics statistics\n",
        "\n",
        "Assuming that the `characteristics` list may have been taken from a study of cases that have been taken to court in relation to the Equality Act.  \n",
        "\n",
        "Write a function which will:\n",
        "\n",
        "*   find the most common characteristic resulting in court action, from this population\n",
        "*   print this in a message, e.g. The characteristic with the highest number of court cases is:  *characteristic*\n",
        "*   print the list of `protected_characteristics`, on one line if possible - see [here](https://www.geeksforgeeks.org/g-fact-25-print-single-multiple-variable-python/)\n",
        "*   ask the user to enter a characteristic that they would like to see statistics on and use a while loop to continue until the user has entered a valid characteristic\n",
        "*   print the characteristic, its frequency and the percentage that this frequency is of the whole population."
      ]
    },
    {
      "cell_type": "code",
      "metadata": {
        "id": "uk_I5z7UgbDs"
      },
      "source": [
        ""
      ],
      "execution_count": null,
      "outputs": []
    }
  ]
}