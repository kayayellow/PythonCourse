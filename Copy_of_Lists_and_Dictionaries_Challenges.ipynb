{
  "nbformat": 4,
  "nbformat_minor": 0,
  "metadata": {
    "colab": {
      "name": "Copy of Lists and Dictionaries Challenges.ipynb",
      "provenance": [],
      "collapsed_sections": [],
      "include_colab_link": true
    },
    "kernelspec": {
      "name": "python3",
      "display_name": "Python 3"
    },
    "language_info": {
      "name": "python"
    }
  },
  "cells": [
    {
      "cell_type": "markdown",
      "metadata": {
        "id": "view-in-github",
        "colab_type": "text"
      },
      "source": [
        "<a href=\"https://colab.research.google.com/github/kayayellow/PythonCourse/blob/main/Copy_of_Lists_and_Dictionaries_Challenges.ipynb\" target=\"_parent\"><img src=\"https://colab.research.google.com/assets/colab-badge.svg\" alt=\"Open In Colab\"/></a>"
      ]
    },
    {
      "cell_type": "markdown",
      "metadata": {
        "id": "nEJLJX3J9B2k"
      },
      "source": [
        "# Some challenges to help you become more confident with using Lists, Tuples and Dictionaries\n",
        "\n",
        "---\n",
        "\n"
      ]
    },
    {
      "cell_type": "markdown",
      "metadata": {
        "id": "JvV6htgh9Nc1"
      },
      "source": [
        "### Exercise 1 - extending a list\n",
        "\n",
        "There are three ways to extend a list in Python:  \n",
        "*  use `list_name.append(item)`, `list_name.insert(item)`\n",
        "*  concatenate two lists using the + operator (e.g. new_list = list1 + list2)\n",
        "*  use `list1_name.extend(list2_name)`\n",
        "\n",
        "The last method allows us to add all the `list2` items onto `list1` and for the new, extended list to now be `list1`.  `list2` will always be added to the end of `list1`.  \n",
        "\n",
        "If the objective is to add list2 before list1 then use `list2.extend(list1)`\n",
        "\n",
        "Write a function which will:  \n",
        "*  create a list of **years** containing the years 1960, 1970, 1980, 1990, 2000  \n",
        "*  print the list of years  \n",
        "*  calculate how long ago each year was and print the year and how long ago it was (e.g. 1990 was 30 years ago)  *(Hint:  use the datetime library to get the current year)*   \n",
        "*  create a second list, **years2** containing the years 2010 and 2020, extend `years` to include these later years\n",
        "*  create a third list, **years3** containing the years 1930, 1940 and 1950 and extend the list to include all the years between 1930 and 2020\n",
        "*  print the final list\n",
        "\n",
        "Expected output:  \n",
        "[1960, 1970, 1980, 1990]  \n",
        "1960 was 61 years ago  \n",
        "1970 was 51 years ago  \n",
        "1980 was 41 years ago  \n",
        "1990 was 31 years ago  \n",
        "2000 was 21 years ago  \n",
        "[1930, 1940, 1950, 1960, 1970, 1980, 1990, 2000, 2010, 2020] "
      ]
    },
    {
      "cell_type": "code",
      "metadata": {
        "id": "QAyTVqoO8-08",
        "colab": {
          "base_uri": "https://localhost:8080/"
        },
        "outputId": "9ca213dd-244b-40cd-e117-b92c19d62860"
      },
      "source": [
        "import datetime\n",
        "def calculate_years():\n",
        " years = [1960, 1970, 1980, 1990, 2000]\n",
        " print(years)\n",
        " current = datetime.datetime.now()\n",
        " current_year = (current.year)\n",
        " for year in years:\n",
        "   print(year,\"was\",current_year-year,\"years ago\")\n",
        " years2 = [2010, 2020]\n",
        " years.extend(years2)\n",
        " #print(years)\n",
        " years3 = [1930, 1940, 1950]\n",
        " years3.extend(years)\n",
        " print(years3)\n",
        "calculate_years()"
      ],
      "execution_count": null,
      "outputs": [
        {
          "output_type": "stream",
          "name": "stdout",
          "text": [
            "[1960, 1970, 1980, 1990, 2000]\n",
            "1960 was 62 years ago\n",
            "1970 was 52 years ago\n",
            "1980 was 42 years ago\n",
            "1990 was 32 years ago\n",
            "2000 was 22 years ago\n",
            "[1930, 1940, 1950, 1960, 1970, 1980, 1990, 2000, 2010, 2020]\n"
          ]
        }
      ]
    },
    {
      "cell_type": "markdown",
      "metadata": {
        "id": "S5iPicFzBzOW"
      },
      "source": [
        "---\n",
        "### Exercise 2 - creating a dictionary from a tuple and three lists\n",
        "\n",
        "Write a function which will create a list of dictionary items using the values in a tuple as the dictionary keys and the values in three corresponding lists as the dictionary values.\n",
        "\n",
        "*  loop through the status items in the tuple called task_status\n",
        "*  for each status, loop through the list with the same name (*Hint:  you can use eval(status) to access the list with the matching name  e.g. for task in eval(status)* )\n",
        "*  each time round this second loop, create a dictionary object with the  key:value pair {status : task}\n",
        "*  add each new dictionary to a list called **project_board** that was created as an empty list before the loops  \n",
        "*  print the project_board list\n",
        "\n",
        "Expected output:  \n",
        "\n",
        "[{'assigned': 'task1'}, {'assigned': 'task2'}, {'assigned': 'task3'}, {'inprogress': 'task4'}, {'inprogress': 'task5'}, {'inprogress': 'task6'}, {'completed': 'task7'}, {'completed': 'task8'}, {'completed': 'task9'}] \n",
        "\n"
      ]
    },
    {
      "cell_type": "code",
      "metadata": {
        "id": "KXYOSHY-C7m4",
        "colab": {
          "base_uri": "https://localhost:8080/"
        },
        "outputId": "670f9a5a-20ed-4272-f3cc-77f07262d480"
      },
      "source": [
        "def create_project_board():\n",
        "  task_status = (\"assigned\", \"inprogress\", \"completed\")\n",
        "  assigned = ['task1','task2','task3']\n",
        "  inprogress = ['task4','task5','task6']\n",
        "  completed = ['task7','task8','task9']\n",
        "  #  add your code below here\n",
        "  project_board = []\n",
        "  for status in task_status:\n",
        "    print(status)\n",
        "    for tasks in eval(status):\n",
        "      print(\"*\",tasks)\n",
        "      dictionary_object = {status: tasks}\n",
        "      #print(dictionary_object)\n",
        "      project_board.append(dictionary_object)\n",
        "  print(project_board)\n",
        "create_project_board()"
      ],
      "execution_count": null,
      "outputs": [
        {
          "output_type": "stream",
          "name": "stdout",
          "text": [
            "assigned\n",
            "* task1\n",
            "* task2\n",
            "* task3\n",
            "inprogress\n",
            "* task4\n",
            "* task5\n",
            "* task6\n",
            "completed\n",
            "* task7\n",
            "* task8\n",
            "* task9\n",
            "[{'assigned': 'task1'}, {'assigned': 'task2'}, {'assigned': 'task3'}, {'inprogress': 'task4'}, {'inprogress': 'task5'}, {'inprogress': 'task6'}, {'completed': 'task7'}, {'completed': 'task8'}, {'completed': 'task9'}]\n"
          ]
        }
      ]
    },
    {
      "cell_type": "markdown",
      "metadata": {
        "id": "M1BuTu9p19Ma"
      },
      "source": [
        "---\n",
        "### Exercise 3 - names and heights\n",
        "\n",
        "Write a function which will allow a user to enter the names and heights of a set of people and add each set of information as a record (dictionary) to a list. The function will stop collecting names and heights when the user enters \"STOP\" as the name.\n",
        "\n",
        "Then, the function will:  \n",
        "\n",
        "*   produce a list of names in order of the shortest person to the tallest\n",
        "*   calculate the name of the tallest person\n",
        "*   calculate the name of the shortest person\n",
        "*   calculate the average height\n",
        "*   calculate the name of the person who is closest to the average height\n",
        "\n",
        "\n",
        "\n",
        "\n"
      ]
    },
    {
      "cell_type": "code",
      "metadata": {
        "id": "reuyww3e18uv",
        "colab": {
          "base_uri": "https://localhost:8080/"
        },
        "outputId": "ed962aaf-1b54-4351-a241-a8ba99fc0b52"
      },
      "source": [
        "def names_and_heights():\n",
        " name_list = []\n",
        " height_list = []\n",
        " while True:\n",
        "   name = input(\"Enter a name \")\n",
        "   name_list.append(name)\n",
        "   if name == \"STOP\":\n",
        "    name_list.remove(\"STOP\")\n",
        "    print(\"Stopped\")\n",
        "    break\n",
        "   else:\n",
        "     height = int(input(\"Enter a height in cm \"))\n",
        "     height_list.append(height)\n",
        " names_heights = dict(zip(name_list, height_list))\n",
        " print(names_heights)\n",
        "\n",
        " #find the name of the tallest person\n",
        " tallest = 0\n",
        " heightslist = list(names_heights.values())\n",
        " for height in heightslist:\n",
        "   if height > tallest:\n",
        "     tallest = height\n",
        " tallestpos = heightslist.index(tallest)\n",
        " print(tallestpos)\n",
        " print(tallest)\n",
        " nameslist = list(names_heights.keys())\n",
        " print(nameslist[tallestpos])\n",
        "\n",
        " #find the name of the shortest person\n",
        " shortest = 999999999\n",
        " heightslist = list(names_heights.values())\n",
        " for height in heightslist:\n",
        "   if height < shortest:\n",
        "     shortest = height\n",
        " print(shortest)\n",
        " shortestpos = heightslist.index(shortest)\n",
        " nameslist = list(names_heights.keys())\n",
        " print(nameslist[shortestpos])\n",
        "\n",
        "# Finding the average\n",
        " list_avg = list(names_heights.values())\n",
        " avg = sum(list_avg) / len(list_avg)\n",
        " abs_avg = int(abs(avg))\n",
        " print(abs_avg)\n",
        "\n",
        " #Comparing average\n",
        " closest = 999999999\n",
        " closest_height = 0\n",
        " heightslist = list(names_heights.values())\n",
        " for height in heightslist:\n",
        "   dif = abs(height - abs_avg)\n",
        "   if dif < closest:\n",
        "     closest = dif\n",
        "     closest_height = height\n",
        " print(closest)\n",
        " closestpos = heightslist.index(closest_height)\n",
        " nameslist = list(names_heights.keys())\n",
        " print(nameslist[closestpos])\n",
        "\n",
        "names_and_heights()"
      ],
      "execution_count": null,
      "outputs": [
        {
          "output_type": "stream",
          "name": "stdout",
          "text": [
            "Enter a name a\n",
            "Enter a height in cm 10\n",
            "Enter a name b\n",
            "Enter a height in cm 14\n",
            "Enter a name c\n",
            "Enter a height in cm 18\n",
            "Enter a name STOP\n",
            "Stopped\n",
            "{'a': 10, 'b': 14, 'c': 18}\n",
            "2\n",
            "18\n",
            "c\n",
            "10\n",
            "a\n",
            "14\n",
            "0\n",
            "b\n"
          ]
        }
      ]
    },
    {
      "cell_type": "code",
      "source": [
        "def testing():\n",
        "\n",
        "#shortend beginning \n",
        " name_list = [\"a\",\"b\",\"c\"]\n",
        " height_list = [10,14,18]\n",
        " names_heights = dict(zip(name_list, height_list))\n",
        " print(names_heights)\n",
        "\n",
        " # Finding the average\n",
        " list_avg = list(names_heights.values())\n",
        " avg = sum(list_avg) / len(list_avg)\n",
        " abs_avg = int(abs(avg))\n",
        " print(abs_avg)\n",
        "\n",
        " #Comparing average\n",
        " closest = 999999999\n",
        " closest_height = 0\n",
        " heightslist = list(names_heights.values())\n",
        " for height in heightslist:\n",
        "   dif = abs(height - abs_avg)\n",
        "   if dif < closest:\n",
        "     closest = dif\n",
        "     closest_height = height\n",
        " print(closest)\n",
        " closestpos = heightslist.index(closest_height)\n",
        " nameslist = list(names_heights.keys())\n",
        " print(nameslist[closestpos])\n",
        "\n",
        "\n",
        "testing()"
      ],
      "metadata": {
        "colab": {
          "base_uri": "https://localhost:8080/"
        },
        "id": "_6ux3fxHgi_O",
        "outputId": "39cd6ecb-b623-4f73-b1f7-dacdeeeb1ccc"
      },
      "execution_count": null,
      "outputs": [
        {
          "output_type": "stream",
          "name": "stdout",
          "text": [
            "{'a': 10, 'b': 14, 'c': 18}\n",
            "14\n",
            "0\n",
            "b\n"
          ]
        }
      ]
    }
  ]
}