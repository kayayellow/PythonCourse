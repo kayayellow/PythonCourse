{
  "nbformat": 4,
  "nbformat_minor": 0,
  "metadata": {
    "colab": {
      "name": "Copy of Lists and Tuples.ipynb",
      "provenance": [],
      "collapsed_sections": [],
      "include_colab_link": true
    },
    "kernelspec": {
      "name": "python3",
      "display_name": "Python 3"
    },
    "language_info": {
      "name": "python"
    }
  },
  "cells": [
    {
      "cell_type": "markdown",
      "metadata": {
        "id": "view-in-github",
        "colab_type": "text"
      },
      "source": [
        "<a href=\"https://colab.research.google.com/github/kayayellow/PythonCourse/blob/main/Copy_of_Lists_and_Tuples.ipynb\" target=\"_parent\"><img src=\"https://colab.research.google.com/assets/colab-badge.svg\" alt=\"Open In Colab\"/></a>"
      ]
    },
    {
      "cell_type": "markdown",
      "metadata": {
        "id": "Z-M-RCWATK71"
      },
      "source": [
        "# Lists and tuples\n",
        "\n",
        "Often we need to store a number of single items of data together so that they can be processed together. This might be because all the data refers to one person (e.g. name, age, gender, etc) OR it might be because we have a set of data (e.g. all the items that should be displayed in a drop down list, such as all the years from this year back to 100 years ago so that someone can select their year of birth)\n",
        "\n",
        "Python has a range of data structures available including:\n",
        "*   lists  \n",
        "*   tuples  \n",
        "*   dictionaries  \n",
        "*   sets\n",
        "\n",
        "This worksheet looks at lists and tuples.\n",
        "\n",
        "## List\n",
        "A list is a set of related, individual data objects, that are indexed and can be processed as a whole, as subsets or as individual items.  Lists are stored, essentially, as contiguous items in memory so that access can be as quick as possible.  However, they are mutable (they can be changed after they are created and stored) and so those mechanisms need to include extra functionality to deal with changing list sizes.\n",
        "\n",
        "## Tuple\n",
        "Essentially the same as a list but it is immutable.  Once it has been created it can't be changed.  It is stored in memory as contiguous items, with the size required being fixed right from the start.  This makes it faster to access.\n",
        "\n",
        "The code below will create two lists and a tuple.\n",
        "*   the first list contains 1000 random numbers between 1 and 100\n",
        "*   the second list is of random length (up to 5000) and each item is one of the 9 characteristics that are protected under the Equality Act in the UK.\n",
        "*   the tuple contains the 9 protected characteristics\n",
        "\n",
        "Before you start the exercises, run the code below.  It will generate the lists and tuple so that you can use them in the exercises.  If you need to recreate the lists again (because you have changed them and need to work on the originals, just run this cell again).\n",
        "\n",
        "***Note:***  *a list variable contains a reference to the start of the list in memory, rather than storing the list itself.  This means that if you assign the list to another variable (to make a copy), it will only copy across the reference.  If you change the copy, you change the original list.*\n",
        "\n",
        "*If you need to make a copy of the list you will need to use a loop to create a new list and copy all items across.*"
      ]
    },
    {
      "cell_type": "code",
      "metadata": {
        "id": "BDRckXeQXFMT"
      },
      "source": [
        "from random import randint, choice\n",
        "\n",
        "def get_num_list():\n",
        "  num_list = [randint(1,100) for n in range(1000)]\n",
        "  return num_list\n",
        "\n",
        "def get_protected_characteristics():\n",
        "  characteristics_tuple = ('age','disability','gender reassignment','marriage and civil partnership','pregnancy and maternity','race','religion or belief','sex','sexual orientation')\n",
        "  return characteristics_tuple\n",
        "\n",
        "def get_protected_characteristic_list(protected_characteristics):\n",
        "  char_list = [choice(protected_characteristics) for ch in range(randint(1,5000))]\n",
        "  return char_list\n",
        "\n",
        "nums = get_num_list()\n",
        "protected_characteristics = get_protected_characteristics()\n",
        "characteristics = get_protected_characteristic_list(protected_characteristics)"
      ],
      "execution_count": null,
      "outputs": []
    },
    {
      "cell_type": "markdown",
      "metadata": {
        "id": "xXT38-4ZV45n"
      },
      "source": [
        "## The exercises below will use the lists:  \n",
        "*   **nums** (a list of between 1 and 1000 random numbers, each number is between 0 and 1000)\n",
        "*   **characteristics** (a list of 5000 random protected_characteristics)\n",
        "\n",
        "and the tuple:\n",
        "*  **protected_characteristics** (a set of the 9 protected characteristics identified in the Equality Act)\n",
        "\n",
        "## You can run the cell above any number of times to generate new lists."
      ]
    },
    {
      "cell_type": "markdown",
      "metadata": {
        "id": "Ft0dXl7fUuaK"
      },
      "source": [
        "---\n",
        "### Exercise 1 - list head, tail and shape\n",
        "\n",
        "Write a function, **describe_list()** which will:\n",
        "*  print the length of the list `nums`\n",
        "*  print the first 10 items in `nums`  \n",
        "*  print the last 5 items in `nums`"
      ]
    },
    {
      "cell_type": "code",
      "metadata": {
        "id": "jUcZD7mmTJdA",
        "colab": {
          "base_uri": "https://localhost:8080/"
        },
        "outputId": "8a00565b-f68f-428a-ff66-4cd90a6ded45"
      },
      "source": [
        "def describe_list():\n",
        "  num_list = [randint(1,100) for n in range(1000)]\n",
        "  print(num_list)\n",
        "  print(num_list[:10])\n",
        "  print(num_list[-5:])\n",
        "describe_list()"
      ],
      "execution_count": null,
      "outputs": [
        {
          "output_type": "stream",
          "name": "stdout",
          "text": [
            "[94, 9, 69, 10, 34, 57, 69, 89, 98, 34, 86, 18, 92, 73, 81, 76, 39, 75, 21, 32, 85, 79, 41, 45, 27, 49, 19, 40, 29, 15, 12, 84, 27, 50, 78, 59, 18, 82, 79, 23, 42, 83, 73, 92, 93, 73, 52, 64, 28, 1, 53, 35, 14, 84, 7, 15, 67, 19, 54, 94, 80, 63, 9, 3, 97, 80, 26, 100, 1, 64, 17, 91, 69, 87, 79, 44, 14, 77, 82, 57, 86, 48, 86, 56, 87, 88, 2, 65, 72, 4, 80, 79, 73, 83, 32, 40, 34, 78, 78, 39, 35, 59, 61, 33, 58, 39, 99, 19, 26, 59, 9, 54, 91, 71, 76, 65, 78, 21, 13, 63, 46, 39, 80, 76, 25, 81, 71, 100, 67, 61, 98, 23, 7, 56, 57, 62, 29, 86, 93, 14, 38, 1, 39, 47, 29, 13, 53, 25, 78, 30, 36, 10, 54, 95, 48, 76, 19, 84, 84, 46, 42, 84, 62, 29, 21, 1, 92, 16, 13, 91, 9, 60, 86, 5, 69, 19, 68, 38, 94, 91, 96, 10, 76, 21, 61, 39, 22, 65, 23, 63, 82, 18, 30, 56, 20, 18, 73, 30, 49, 19, 93, 78, 6, 56, 55, 70, 82, 78, 32, 10, 69, 82, 30, 87, 3, 35, 3, 96, 5, 56, 32, 22, 51, 5, 45, 15, 66, 34, 84, 39, 67, 25, 40, 44, 26, 2, 31, 17, 57, 75, 44, 95, 39, 43, 2, 3, 24, 19, 96, 6, 20, 33, 24, 81, 54, 85, 80, 32, 17, 45, 77, 53, 62, 5, 82, 90, 93, 25, 31, 91, 71, 85, 69, 41, 50, 20, 66, 87, 8, 62, 84, 11, 9, 30, 78, 39, 44, 45, 19, 62, 29, 41, 72, 59, 10, 62, 21, 39, 37, 46, 97, 50, 88, 57, 26, 84, 58, 69, 1, 39, 50, 78, 73, 86, 55, 28, 26, 46, 51, 86, 74, 4, 5, 64, 29, 95, 98, 6, 25, 66, 88, 14, 13, 33, 67, 68, 96, 64, 10, 17, 63, 63, 50, 97, 91, 84, 78, 7, 19, 19, 69, 30, 47, 19, 83, 77, 40, 42, 72, 10, 55, 13, 79, 89, 36, 83, 38, 15, 3, 11, 81, 69, 71, 38, 4, 62, 78, 44, 73, 6, 60, 45, 81, 10, 66, 30, 79, 74, 41, 22, 46, 96, 40, 64, 96, 46, 61, 52, 25, 98, 60, 9, 98, 13, 63, 89, 22, 73, 54, 85, 60, 9, 11, 18, 81, 12, 98, 64, 83, 17, 90, 5, 93, 46, 10, 13, 24, 21, 68, 41, 99, 36, 39, 86, 48, 35, 67, 12, 27, 10, 99, 76, 77, 91, 95, 88, 32, 5, 24, 71, 82, 93, 58, 95, 96, 10, 53, 60, 66, 77, 90, 14, 20, 82, 39, 56, 47, 11, 96, 86, 6, 40, 54, 51, 35, 39, 15, 75, 94, 40, 51, 90, 38, 16, 49, 12, 74, 12, 73, 38, 17, 2, 28, 35, 77, 51, 7, 23, 60, 51, 99, 75, 89, 36, 56, 79, 86, 80, 70, 89, 1, 24, 53, 18, 93, 33, 92, 10, 84, 100, 63, 64, 93, 19, 71, 43, 79, 75, 92, 52, 3, 40, 22, 57, 53, 43, 8, 19, 87, 12, 79, 85, 84, 45, 36, 65, 17, 39, 54, 76, 74, 60, 69, 10, 94, 29, 45, 51, 47, 88, 89, 44, 36, 19, 91, 75, 68, 87, 9, 21, 77, 78, 1, 13, 50, 31, 26, 86, 64, 18, 75, 52, 33, 91, 6, 6, 41, 31, 71, 54, 58, 56, 11, 76, 77, 60, 6, 45, 58, 78, 37, 17, 43, 2, 46, 56, 26, 42, 88, 15, 25, 6, 56, 90, 31, 64, 77, 78, 8, 81, 62, 61, 67, 91, 30, 80, 86, 46, 72, 25, 87, 13, 43, 64, 42, 82, 5, 33, 47, 86, 75, 9, 42, 77, 1, 2, 35, 53, 6, 45, 54, 87, 91, 81, 49, 71, 67, 6, 95, 52, 93, 69, 99, 48, 69, 97, 51, 99, 11, 24, 69, 44, 65, 1, 16, 59, 12, 9, 59, 43, 84, 42, 6, 73, 82, 37, 39, 3, 36, 44, 56, 73, 47, 8, 24, 55, 53, 84, 26, 83, 54, 50, 31, 67, 43, 50, 57, 73, 91, 29, 90, 44, 87, 53, 19, 85, 71, 47, 13, 71, 14, 87, 27, 84, 8, 47, 9, 76, 11, 91, 5, 54, 98, 26, 21, 18, 83, 25, 54, 29, 89, 39, 59, 6, 49, 35, 48, 12, 61, 35, 24, 15, 24, 63, 31, 41, 6, 33, 47, 57, 83, 76, 52, 60, 28, 16, 94, 48, 98, 44, 38, 59, 51, 40, 27, 40, 3, 18, 42, 29, 69, 52, 67, 3, 29, 17, 100, 5, 62, 31, 63, 37, 18, 13, 80, 60, 16, 97, 63, 73, 68, 83, 57, 84, 51, 30, 25, 46, 96, 98, 79, 64, 95, 9, 95, 51, 19, 75, 100, 23, 100, 89, 49, 49, 94, 41, 98, 5, 82, 61, 35, 23, 69, 63, 17, 100, 80, 30, 69, 29, 99, 45, 47, 60, 67, 68, 34, 98, 19, 69, 81, 22, 32, 14, 81, 31, 91, 41, 59, 53, 95, 34, 56, 10, 86, 11, 88, 49, 86, 40, 19, 9, 92, 39, 46, 23, 16, 84, 40, 44, 94, 74, 52, 1, 27, 44, 15, 19, 72, 25, 52, 59, 85, 96, 62, 17, 36, 1, 32, 2, 42, 12, 68, 69, 37, 13, 72, 70, 76, 11, 49, 93, 56, 32, 19, 18, 35, 8, 10, 53, 40, 85, 97, 79, 73, 36, 100, 58, 44, 3, 83, 59, 45, 23, 100, 90, 100, 71, 16, 53, 29, 78, 90, 97, 28, 50, 62, 53, 78, 34, 15, 53, 42, 46, 79, 26, 12, 50, 61, 80, 85, 45, 38, 32, 12, 16, 34, 57, 31, 22, 61, 76, 76, 54, 47, 77, 8, 97, 19, 97, 54, 53, 53, 78, 41, 26, 18, 96, 48, 17, 68, 33, 29, 37, 30, 69, 84, 30, 98, 26]\n",
            "[94, 9, 69, 10, 34, 57, 69, 89, 98, 34]\n",
            "[69, 84, 30, 98, 26]\n"
          ]
        }
      ]
    },
    {
      "cell_type": "markdown",
      "metadata": {
        "id": "yNWg08k6bXv0"
      },
      "source": [
        "---\n",
        "### Exercise 2 - show tuple items\n",
        "\n",
        "Write a function which will:\n",
        "*   use a loop to print the list of protected characteristics from the `protected_characteristics` tuple.\n"
      ]
    },
    {
      "cell_type": "code",
      "metadata": {
        "id": "P2HnCG9pb1BS",
        "colab": {
          "base_uri": "https://localhost:8080/"
        },
        "outputId": "7bef7ec0-d481-4831-c01a-cc8b6d1e613d"
      },
      "source": [
        "def protected_characteristics():\n",
        "  characteristics_tuple = ('age','disability','gender reassignment','marriage and civil partnership','pregnancy and maternity','race','religion or belief','sex','sexual orientation')\n",
        "  print(characteristics_tuple)\n",
        "protected_characteristics()"
      ],
      "execution_count": null,
      "outputs": [
        {
          "output_type": "stream",
          "name": "stdout",
          "text": [
            "('age', 'disability', 'gender reassignment', 'marriage and civil partnership', 'pregnancy and maternity', 'race', 'religion or belief', 'sex', 'sexual orientation')\n"
          ]
        }
      ]
    },
    {
      "cell_type": "markdown",
      "metadata": {
        "id": "RTSuQZs4b1JU"
      },
      "source": [
        "---\n",
        "### Exercise 3 - list a random subset\n",
        "\n",
        "Write a function which will:\n",
        "*  calculate the position of the middle item in the `characteristics` list   \n",
        "(*Hint: use len() to help with this*)\n",
        "*  calculate the position of the item that is 5 places before the middle item\n",
        "*  calculate the position of the item that is 5 places after the middle item\n",
        "*  print the part of the list that includes the items from 5 places before to 5 places after.  \n",
        "\n",
        "Expected output:  \n",
        "Your list will include 11 items."
      ]
    },
    {
      "cell_type": "code",
      "metadata": {
        "id": "OwhFnH2kdC11",
        "colab": {
          "base_uri": "https://localhost:8080/"
        },
        "outputId": "a28d7e46-f84c-445a-aaef-a07b30c5b791"
      },
      "source": [
        "def characteristcics_list():\n",
        "  #characteristics = ('age','disability','gender reassignment','marriage and civil partnership','pregnancy and maternity','race','religion or belief','sex','sexual orientation')\n",
        "  middle = len(characteristics) // 2\n",
        "  print(middle)\n",
        "  five_before = middle - 5\n",
        "  five_after = middle + 5\n",
        "  print(characteristics[five_before:five_after])\n",
        "characteristcics_list()"
      ],
      "execution_count": null,
      "outputs": [
        {
          "output_type": "stream",
          "name": "stdout",
          "text": [
            "482\n",
            "['religion or belief', 'race', 'race', 'sex', 'marriage and civil partnership', 'race', 'race', 'disability', 'religion or belief', 'sex']\n"
          ]
        }
      ]
    },
    {
      "cell_type": "markdown",
      "metadata": {
        "id": "KS0x3oFNePI9"
      },
      "source": [
        "---\n",
        "### Exercise 4 - create a copy\n",
        "\n",
        "Write a function which will: use a for loop to create a copy of the `nums` list:\n",
        "\n",
        "*   create a new, empty, list called **new_nums**  (*Hint: an empty list is [ ]*)\n",
        "*   use a for loop which uses the following syntax:  `for num in nums:`\n",
        "*   each time round the loop append `num` to `new_nums`  ( *`new_nums.append(num)`*)\n",
        "*   print the first 10 items of `new_nums`\n",
        "*   print the first 10 items of `nums`\n",
        "*   print the length of both lists"
      ]
    },
    {
      "cell_type": "code",
      "metadata": {
        "id": "mpK1Ip3we-uC",
        "colab": {
          "base_uri": "https://localhost:8080/"
        },
        "outputId": "f1dcdc97-4cd7-42e2-f215-58d0b00bb9a7"
      },
      "source": [
        "new_nums = []\n",
        "for num in nums:\n",
        "  new_nums.append(num)\n",
        "print(new_nums[:10])\n",
        "print(nums[:10])"
      ],
      "execution_count": null,
      "outputs": [
        {
          "output_type": "stream",
          "name": "stdout",
          "text": [
            "[45, 34, 91, 8, 58, 3, 42, 88, 9, 31]\n",
            "[45, 34, 91, 8, 58, 3, 42, 88, 9, 31]\n"
          ]
        }
      ]
    },
    {
      "cell_type": "markdown",
      "metadata": {
        "id": "deUIFWjRe-3G"
      },
      "source": [
        "\n",
        "\n",
        "```\n",
        "# This is formatted as code\n",
        "```\n",
        "\n",
        "---\n",
        "### Exercise 5 - count the occurrence of age in characteristics\n",
        "\n",
        "Write a function which will use the list method:\n",
        "\n",
        "`num_items = list_name.count(item)`\n",
        "\n",
        "to count the number of occurrences of 'age' in the `characteristics` list.  Print the result."
      ]
    },
    {
      "cell_type": "code",
      "metadata": {
        "id": "b9TrHQ9hfoIU",
        "colab": {
          "base_uri": "https://localhost:8080/"
        },
        "outputId": "216e0305-086a-4150-cbfd-f5cf9b0e18f5"
      },
      "source": [
        "#characteristics = ('age','disability','gender reassignment','marriage and civil partnership','pregnancy and maternity','race','religion or belief','sex','sexual orientation')\n",
        "num_items = characteristics.count('age')\n",
        "print(num_items)"
      ],
      "execution_count": null,
      "outputs": [
        {
          "output_type": "stream",
          "name": "stdout",
          "text": [
            "106\n"
          ]
        }
      ]
    },
    {
      "cell_type": "markdown",
      "metadata": {
        "id": "zm2VI5RmfoSy"
      },
      "source": [
        "---\n",
        "### Exercise 6 - sort the nums list\n",
        "\n",
        "Write a function which will:\n",
        "*   call the function `get_num_list()` and store the result in a new list called **sort_nums**\n",
        "*   print the first, and last, 20 items in the `sort_nums` list\n",
        "*   use the `list_name.sort()` method to sort the `sort_nums` list into ascending order\n",
        "*   print the first, and last, 20 items again  \n",
        "*   use the `list_name.sort()` method again to sort the `sort_nums` list into descending order\n",
        "*   print the first, and last, 20 items again"
      ]
    },
    {
      "cell_type": "code",
      "metadata": {
        "id": "Fksgpj9JgWDs",
        "colab": {
          "base_uri": "https://localhost:8080/"
        },
        "outputId": "bd375a79-9a96-433a-9936-adbd044a4b98"
      },
      "source": [
        "#def get_num_list():\n",
        " # sort_nums = get_num_list()\n",
        "  #print(sort_nums[:20])\n",
        " # print(sort_nums[20:])\n",
        "#get_num_list()\n",
        "def sort_the_nums_list():\n",
        "  sort_nums = get_num_list()\n",
        "  print(sort_nums[:20], sort_nums[-20:])\n",
        "  sort_nums.sort()\n",
        "  print(sort_nums[:20], sort_nums[-20:])\n",
        "  sort_nums.sort(reverse=True)\n",
        "  print(sort_nums[:20], sort_nums[-20:])\n",
        "sort_the_nums_list()"
      ],
      "execution_count": null,
      "outputs": [
        {
          "output_type": "stream",
          "name": "stdout",
          "text": [
            "[60, 52, 73, 64, 33, 82, 24, 2, 55, 12, 3, 81, 54, 31, 78, 100, 50, 85, 57, 6] [34, 83, 29, 100, 78, 92, 45, 62, 6, 65, 49, 12, 51, 50, 6, 53, 59, 56, 90, 63]\n",
            "[1, 1, 1, 1, 1, 1, 1, 1, 1, 1, 2, 2, 2, 2, 2, 2, 2, 2, 2, 2] [99, 99, 99, 99, 99, 99, 99, 99, 99, 99, 99, 100, 100, 100, 100, 100, 100, 100, 100, 100]\n",
            "[100, 100, 100, 100, 100, 100, 100, 100, 100, 99, 99, 99, 99, 99, 99, 99, 99, 99, 99, 99] [2, 2, 2, 2, 2, 2, 2, 2, 2, 2, 1, 1, 1, 1, 1, 1, 1, 1, 1, 1]\n"
          ]
        }
      ]
    },
    {
      "cell_type": "markdown",
      "metadata": {
        "id": "_OF-Xuj1UrW0"
      },
      "source": [
        "---\n",
        "### Exercise 7 - get statistics (max(), min(), sum() )\n",
        "\n",
        "Write a function which will:\n",
        "*   print the maximum and minimum numbers in the `nums` list  \n",
        "*   print the sum of the `nums` list\n",
        "*   calculate and print the average of the `nums` list (using `len()` to help)"
      ]
    },
    {
      "cell_type": "code",
      "metadata": {
        "id": "9YmYMenZVGod",
        "colab": {
          "base_uri": "https://localhost:8080/"
        },
        "outputId": "fcb6fb27-0b49-4f73-a43a-c04cc12459e0"
      },
      "source": [
        "def get_statistics():\n",
        "  num_list = get_num_list()\n",
        "  print(max(num_list))\n",
        "  print(min(num_list))\n",
        "  print(sum(num_list))\n",
        "  print(sum(num_list) / len(num_list))\n",
        "get_statistics()"
      ],
      "execution_count": null,
      "outputs": [
        {
          "output_type": "stream",
          "name": "stdout",
          "text": [
            "100\n",
            "1\n",
            "50145\n",
            "50.145\n"
          ]
        }
      ]
    },
    {
      "cell_type": "markdown",
      "metadata": {
        "id": "Mn4tHQ_KVbHa"
      },
      "source": [
        "---\n",
        "### Exercise 8 - percentage difference\n",
        "\n",
        "Write a function which will:\n",
        "*   generate a new list called **ex8_nums** using `get_num_list()`\n",
        "*   calculate and print the percentage difference between the first number in each list (as a percentage of the number in the nums list) (Hint:  find the difference between the two numbers, divide the difference by the number in `nums` and multiply by 100)\n",
        "*   calculate and print the percentage difference between the last numbers in each list in the same way\n",
        "*   calculate and print the percentage difference between the middle numbers in each list in the same way.\n",
        "*   calculate and print the percentage difference between the sums of each list in the same way"
      ]
    },
    {
      "cell_type": "code",
      "metadata": {
        "id": "nJCQjZIeZL0e"
      },
      "source": [
        "ex8_nums = get_num_list()"
      ],
      "execution_count": null,
      "outputs": []
    },
    {
      "cell_type": "code",
      "source": [
        "def num_statistics():\n",
        "  print(nums[:10])\n",
        "  print(ex8_nums[:10])\n",
        "  first_percent_dif = (ex8_nums[0] - nums[0]) / nums[0] * 100\n",
        "  print(first_percent_dif,\"%\")\n",
        "  print(nums[-10:])\n",
        "  print(ex8_nums[-10:])\n",
        "  last_percent_dif = (ex8_nums[-1] - nums[-1]) / nums[-1] * 100\n",
        "  print(last_percent_dif,\"%\")\n",
        "num_statistics()"
      ],
      "metadata": {
        "id": "bUf_SQpCUkid",
        "colab": {
          "base_uri": "https://localhost:8080/"
        },
        "outputId": "0ad973d7-bfc6-466e-f028-813d675b6f85"
      },
      "execution_count": null,
      "outputs": [
        {
          "output_type": "stream",
          "name": "stdout",
          "text": [
            "[45, 34, 91, 8, 58, 3, 42, 88, 9, 31]\n",
            "[63, 28, 62, 60, 1, 69, 87, 78, 99, 50]\n",
            "40.0 %\n",
            "[100, 17, 22, 21, 88, 51, 90, 12, 70, 84]\n",
            "[54, 75, 96, 100, 15, 38, 28, 52, 36, 71]\n",
            "-15.476190476190476 %\n"
          ]
        }
      ]
    },
    {
      "cell_type": "markdown",
      "metadata": {
        "id": "HNs3lZmYawFO"
      },
      "source": [
        "---\n",
        "### Exercise 9 - characteristic counts\n",
        "\n",
        "Write a function which will:\n",
        "*  iterate through the `protected_characteristics` tuple and for each **characteristic**:\n",
        "*   *   count the number of occurrences of that `characteristic` in the `characteristics` list\n",
        "*   *   print the `protected_characteristic` and the **count**  \n",
        "\n",
        "Example expected output:\n",
        "\n",
        "age 100  \n",
        "disability 120  \n",
        "gender reassignment 120  \n",
        "marriage and civil partnership 111  \n",
        "pregnancy and maternity 103  \n",
        "race 106  \n",
        "religion or belief 95  \n",
        "sex 110  \n",
        "sexual orientation 113  \n",
        "\n",
        "Extra learning:  you can read [here](https://thispointer.com/python-how-to-pad-strings-with-zero-space-or-some-other-character/) how to justify the printed characteristic so that the output is organised into two columns as shown below:  \n",
        "![tabulated output](https://drive.google.com/uc?id=1CCXfX6K5ZeDefnq7vUsqxCDmqvcfY8Mz)\n",
        "\n",
        "\n",
        "\n"
      ]
    },
    {
      "cell_type": "code",
      "metadata": {
        "id": "GURT11albqUs",
        "colab": {
          "base_uri": "https://localhost:8080/"
        },
        "outputId": "667dc232-fdc5-4ad8-cbb1-e01627a7ff04"
      },
      "source": [
        "from random import randint, choice\n",
        "from collections import Counter\n",
        "def characteristics_count():\n",
        "  characteristics_tuple = ('age','disability','gender reassignment','marriage and civil partnership','pregnancy and maternity','race','religion or belief','sex','sexual orientation')\n",
        "  characteristics_list = [choice(protected_characteristics) for ch in range(randint(1,5000))]\n",
        "  count_age = characteristics_list.count('age')\n",
        "  count_disability = characteristics_list.count('disability')\n",
        "  count_gender = characteristics_list.count('gender reassignment')\n",
        "  count_marriage = characteristics_list.count('marriage and civil partnership')\n",
        "  count_pregnancy = characteristics_list.count('pregnancy and maternity')\n",
        "  count_race = characteristics_list.count('race')\n",
        "  count_religion = characteristics_list.count('religion or belief')\n",
        "  count_sex = characteristics_list.count('sex')\n",
        "  count_sexuality = characteristics_list.count('sexual orientation')\n",
        "  print('Protected Characteristic','Frequency')\n",
        "  print('Age',count_age)\n",
        "  print('disability',count_disability)\n",
        "  print('gender reassignment',count_gender)\n",
        "  print('marriage and civil partnership',count_marriage)\n",
        "  print('pregnancy and maternity',count_pregnancy)\n",
        "  print('race',count_race)\n",
        "  print('religion or belief',count_religion)\n",
        "  print('sex',count_sex)\n",
        "  print('sexual orientation',count_sexuality)\n",
        "characteristics_count()"
      ],
      "execution_count": null,
      "outputs": [
        {
          "output_type": "stream",
          "name": "stdout",
          "text": [
            "Protected Characteristic Frequency\n",
            "Age 129\n",
            "disability 161\n",
            "gender reassignment 150\n",
            "marriage and civil partnership 141\n",
            "pregnancy and maternity 141\n",
            "race 134\n",
            "religion or belief 154\n",
            "sex 135\n",
            "sexual orientation 125\n"
          ]
        }
      ]
    },
    {
      "cell_type": "markdown",
      "metadata": {
        "id": "9Po7yQj-ds38"
      },
      "source": [
        "---\n",
        "### Exercise 10 - characteristics statistics\n",
        "\n",
        "Assuming that the `characteristics` list may have been taken from a study of cases that have been taken to court in relation to the Equality Act.  \n",
        "\n",
        "Write a function which will:\n",
        "\n",
        "*   find the most common characteristic resulting in court action, from this population\n",
        "*   print this in a message, e.g. The characteristic with the highest number of court cases is:  *characteristic*\n",
        "*   print the list of `protected_characteristics`, on one line if possible - see [here](https://www.geeksforgeeks.org/g-fact-25-print-single-multiple-variable-python/)\n",
        "*   ask the user to enter a characteristic that they would like to see statistics on and use a while loop to continue until the user has entered a valid characteristic\n",
        "*   print the characteristic, its frequency and the percentage that this frequency is of the whole population."
      ]
    },
    {
      "cell_type": "code",
      "source": [
        ""
      ],
      "metadata": {
        "id": "ricxinEKeTcE"
      },
      "execution_count": null,
      "outputs": []
    },
    {
      "cell_type": "code",
      "metadata": {
        "id": "uk_I5z7UgbDs",
        "colab": {
          "base_uri": "https://localhost:8080/"
        },
        "outputId": "ec8e4a08-3b00-40b8-e744-f1b48a8802a5"
      },
      "source": [
        "from typing_extensions import TypeVarTuple\n",
        "from random import randint, choice\n",
        "from collections import Counter\n",
        "def characteristics_act():\n",
        "  characteristics = ('age','disability','gender reassignment','marriage and civil partnership','pregnancy and maternity','race','religion or belief','sex','sexual orientation')\n",
        "  characteristics_list = [choice(protected_characteristics) for ch in range(randint(1,5000))]\n",
        "  count_age = characteristics_list.count('age')\n",
        "  count_disability = characteristics_list.count('disability')\n",
        "  count_gender = characteristics_list.count('gender reassignment')\n",
        "  count_marriage = characteristics_list.count('marriage and civil partnership')\n",
        "  count_pregnancy = characteristics_list.count('pregnancy and maternity')\n",
        "  count_race = characteristics_list.count('race')\n",
        "  count_religion = characteristics_list.count('religion or belief')\n",
        "  count_sex = characteristics_list.count('sex')\n",
        "  count_sexuality = characteristics_list.count('sexual orientation')\n",
        "  characteristic_count_list =  count_age,count_disability, count_gender, count_marriage, count_pregnancy, count_race, count_religion, count_sex, count_sexuality\n",
        "  #print(characteristic_count_list)\n",
        "  largest_number = max(characteristic_count_list)\n",
        "  if largest_number == count_age:\n",
        "    char = \"Age\"\n",
        "  elif largest_number == count_disability:\n",
        "    char = \"Disability\"\n",
        "  elif largest_number == count_gender:\n",
        "    char = \"Gender Reassignment\"\n",
        "  elif largest_number == count_marriage:\n",
        "    char = \"Marriage and Civil Partnership\"\n",
        "  elif largest_number == count_pregnancy:\n",
        "    char = \"Pregnancy and Maternity\"\n",
        "  elif largest_number == count_race:\n",
        "    char = \"Race\"\n",
        "  elif largest_number == count_religion:\n",
        "    char = \"Religion or Belief\"\n",
        "  elif largest_number == count_sex:\n",
        "    char = \"Sex\"\n",
        "  elif largest_number == count_sexuality:\n",
        "    char = \"Sexual Orientation\"\n",
        "  print(\"The characteristic with the highest number of court cases is: \", char)\n",
        "  print(\"Characteristics :\", characteristics)\n",
        "  characteristics = ('age','disability','gender reassignment','marriage and civil partnership','pregnancy and maternity','race','religion or belief','sex','sexual orientation') \n",
        "  request = input(\"Please enter a characteristic that you would like to see statistics on \")\n",
        "  if request == \"age\":\n",
        "    print(\"Age :\", count_age)\n",
        "  elif request == \"disability\":\n",
        "    print(\"Disability :\", count_disability)\n",
        "  elif request == \"gender reassignment\":\n",
        "    print(\"Gender Reassignment :\", count_gender)\n",
        "  elif request == \"marriage and civil partnership\":\n",
        "    print(\"Marriage and Civil partnership :\", count_marriage)\n",
        "  elif request == \"pregnancy and maternity\":\n",
        "    print(\"Pregnancy and Maternity :\",count_pregnancy)\n",
        "  elif request == \"race\":\n",
        "    print(\"Race :\", count_race)\n",
        "  elif request == \"religion or belief\":\n",
        "    print(\"Religion or Belief :\", count_religion)\n",
        "  elif request == \"sex\":\n",
        "    print(\"Sex :\", count_sex)\n",
        "  elif request == \"sexual orientation\":\n",
        "    print(\"Sexual Orientation :\",count_sexuality)\n",
        "  else:\n",
        "    print(\"Please enter a valid characteristic that you would like to see statistics on\")\n",
        "characteristics_act()"
      ],
      "execution_count": null,
      "outputs": [
        {
          "output_type": "stream",
          "name": "stdout",
          "text": [
            "The characteristic with the highest number of court cases is:  Pregnancy and Maternity\n",
            "Characteristics : ('age', 'disability', 'gender reassignment', 'marriage and civil partnership', 'pregnancy and maternity', 'race', 'religion or belief', 'sex', 'sexual orientation')\n",
            "Please enter a characteristic that you would like to see statistics on age\n",
            "Age : 427\n"
          ]
        }
      ]
    }
  ]
}